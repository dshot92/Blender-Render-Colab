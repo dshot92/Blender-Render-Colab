{
  "nbformat": 4,
  "nbformat_minor": 0,
  "metadata": {
    "accelerator": "GPU",
    "colab": {
      "name": "Blender Render Colab.ipynb",
      "provenance": [],
      "collapsed_sections": []
    },
    "kernelspec": {
      "display_name": "Python 3",
      "name": "python3"
    }
  },
  "cells": [
    {
      "cell_type": "code",
      "metadata": {
        "id": "zUr3GEtqcmh1",
        "cellView": "form"
      },
      "source": [
        "#@title GPU information\n",
        "!nvidia-smi"
      ],
      "execution_count": null,
      "outputs": []
    },
    {
      "cell_type": "code",
      "metadata": {
        "id": "QRzNmiHN8Xr0",
        "cellView": "form"
      },
      "source": [
        "#@title Google Drive Mount\n",
        "PasteAll_link = \"https://pasteall.org/media/9/a/9a2231663cff06e4536f9b888e985b4f.blend\" #@param {type : \"string\"}\n",
        "file_name = \"60_F40\" #@param {type : \"string\"}\n",
        "file_name += \".blend\"\n",
        "\n",
        "if file_name not in os.listdir(\".\"):\n",
        "  !wget $PasteAll_link\n",
        "\n",
        "  name = PasteAll_link.split(\"/\")[-1]\n",
        "  print(\"\\nDownloaded:\")\n",
        "  print(file_name)\n",
        "  !mv $name $file_name\n"
      ],
      "execution_count": null,
      "outputs": []
    },
    {
      "cell_type": "code",
      "metadata": {
        "cellView": "form",
        "id": "rRmr42VddR6I"
      },
      "source": [
        "#@title ## Download && Install Blender on VM\r\n",
        "blender_version = \"blender2.92.0\" #@param [\"blender2.92.0\"]\r\n",
        "\r\n",
        "if blender_version == \"blender2.92.0\":\r\n",
        "    # download_path=\"https://download.blender.org/release/Blender2.91/blender-2.91.2-linux64.tar.xz\"\r\n",
        "    download_path=\"https://download.blender.org/release/Blender2.92/blender-2.92.0-linux64.tar.xz\"\r\n",
        "\r\n",
        "!mkdir $blender_version\r\n",
        "if blender_version == \"blender2.92.0\":\r\n",
        "    !wget -O '{blender_version}.tar.xz' -nc $download_path\r\n",
        "    !tar xf '{blender_version}.tar.xz' -C ./$blender_version --strip-components=1\r\n",
        "\r\n",
        "import os\r\n",
        "\r\n",
        "#  This Block is required as some weird behaviors with libtcmalloc appeared in the colab VM\r\n",
        "os.environ[\"LD_PRELOAD\"] = \"\"\r\n",
        "\r\n",
        "!apt update\r\n",
        "!apt remove libtcmalloc-minimal4\r\n",
        "!apt install libtcmalloc-minimal4\r\n",
        "os.environ[\"LD_PRELOAD\"] = \"/usr/lib/x86_64-linux-gnu/libtcmalloc_minimal.so.4.3.0\"\r\n",
        "\r\n",
        "!echo $LD_PRELOAD\r\n",
        "\r\n",
        "# Unpack and move blender\r\n",
        "!apt install libboost-all-dev\r\n",
        "!apt install libgl1-mesa-dev\r\n",
        "!apt install libglu1-mesa libsm-dev"
      ],
      "execution_count": null,
      "outputs": []
    },
    {
      "cell_type": "code",
      "metadata": {
        "id": "8dFNjYGTgNjR",
        "cellView": "form"
      },
      "source": [
        "#@title Setup Info { run: \"auto\", vertical-output: true, form-width: \"50%\" }\n",
        "#@markdown Please configure your setup\n",
        "Samples_Count = 128 #@param {type:\"integer\"}\n",
        "gpu_enabled = True #@param {type:\"boolean\"}\n",
        "cpu_enabled = False #@param {type:\"boolean\"}\n",
        "\n",
        "\n",
        "#blender_version = \"blender2.91.0\" #@param [\"blender2.91.0\"]\n",
        "#file_name = '60_F40'  #@param {type: \"string\"}\n",
        "file_name = file_name.split(\".\")[0]\n",
        "#@markdown ---\n",
        "#@markdown Single Frame render\n",
        "single_frame = True #@param {type:\"boolean\"}\n",
        "frame =  6#@param {type:\"integer\"}\n",
        "#@markdown ---\n",
        "#@markdown Sequence render\n",
        "sequence =  False #@param {type:\"boolean\"}\n",
        "start_frame =   1#@param {type:\"integer\"}\n",
        "end_frame =   5#@param {type:\"integer\"}\n",
        "\n",
        "data = \"import re\\n\"+\\\n",
        "    \"import bpy\\n\"+\\\n",
        "    \"scene = bpy.context.scene\\n\"+\\\n",
        "    \"scene.cycles.device = 'GPU'\\n\"+\\\n",
        "    \"bpy.context.scene.cycles.samples = \"+str(Samples_Count)+\"\\n\"+\\\n",
        "    \"prefs = bpy.context.preferences\\n\"+\\\n",
        "    \"prefs.addons['cycles'].preferences.get_devices()\\n\"+\\\n",
        "    \"cprefs = prefs.addons['cycles'].preferences\\n\"+\\\n",
        "    \"print(cprefs)\\n\"+\\\n",
        "    \"# Attempt to set GPU device types if available\\n\"+\\\n",
        "    \"for compute_device_type in ('CUDA', 'OPENCL', 'NONE'):\\n\"+\\\n",
        "    \"    try:\\n\"+\\\n",
        "    \"        cprefs.compute_device_type = compute_device_type\\n\"+\\\n",
        "    \"        print('Device found',compute_device_type)\\n\"+\\\n",
        "    \"        break\\n\"+\\\n",
        "    \"    except TypeError:\\n\"+\\\n",
        "    \"        pass\\n\"+\\\n",
        "    \"for scene in bpy.data.scenes:\\n\"+\\\n",
        "    \"    scene.render.tile_x = 256\\n\"+\\\n",
        "    \"    scene.render.tile_y = 256\\n\"+\\\n",
        "    \"# Enable all CPU and GPU devices\\n\"+\\\n",
        "    \"for device in cprefs.devices:\\n\"+\\\n",
        "    \"    if not re.match('intel', device.name, re.I):\\n\"+\\\n",
        "    \"        print('Activating',device)\\n\"+\\\n",
        "    \"        device.use = \"+str(gpu_enabled)+\"\\n\"+\\\n",
        "    \"    else:\\n\"+\\\n",
        "    \"        device.use = \"+str(cpu_enabled)+\"\\n\"\n",
        "with open('setgpu.py', 'w') as f:\n",
        "    f.write(data)\n",
        "\n",
        "\n",
        "path_to_blend = './' + file_name + '.blend'\n",
        "output_path = './output_' + file_name + '/output####.png'\n"
      ],
      "execution_count": 78,
      "outputs": []
    },
    {
      "cell_type": "code",
      "metadata": {
        "id": "Fpk2w3yM8XqQ",
        "cellView": "form"
      },
      "source": [
        "#@title Rendering\n",
        "if sequence:\n",
        "  !sudo ./$blender_version/blender -P './setgpu.py'  -b '{path_to_blend}' -E CYCLES -o '{output_path}' -s {start_frame} -e {end_frame} -a\n",
        "else:\n",
        "  !sudo ./$blender_version/blender -P 'setgpu.py' -b '{path_to_blend}' -P 'setgpu.py' -o '{output_path}' -f {frame}"
      ],
      "execution_count": null,
      "outputs": []
    }
  ]
}